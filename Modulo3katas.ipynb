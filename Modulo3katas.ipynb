{
 "cells": [
  {
   "cell_type": "markdown",
   "metadata": {},
   "source": [
    "## Ejercicio 1 - Escribir Declaracion if, else, elif"
   ]
  },
  {
   "cell_type": "markdown",
   "metadata": {},
   "source": [
    "Para este ejercicio, escribirás una lógica condicional que imprima una advertencia si un asteroide se acerca a la Tierra demasiado rápido. La velocidad del asteroide varía dependiendo de lo cerca que esté del sol, y cualquier velocidad superior a 25 kilómetros por segundo (km/s) merece una advertencia.\n",
    "\n",
    "Un asteroide se acerca, y viaja a una velocidad de 49 km/s."
   ]
  },
  {
   "cell_type": "markdown",
   "metadata": {},
   "source": [
    "* Añadir el código necesario para crear una variable que guarde la velocidad del asteroide.\n",
    "* Escribe una expresión de prueba para calcular si necesita una advertencia.\n",
    "* Agregue las instrucciones que se ejecutarán si la expresión de prueba es true o false."
   ]
  },
  {
   "cell_type": "code",
   "execution_count": 5,
   "metadata": {},
   "outputs": [
    {
     "name": "stdout",
     "output_type": "stream",
     "text": [
      "El asteroide se acerca demasiado rapido a la Tierra\n"
     ]
    }
   ],
   "source": [
    "velAsteroide = 49 # Kilometros por segundo (km/s)\n",
    "velAdvertencia = 25 # km/s\n",
    "if velAsteroide > velAdvertencia:\n",
    "    print(\"El asteroide se acerca demasiado rapido a la Tierra\")\n",
    "else: \n",
    "    print(\"Todo bien!\")"
   ]
  },
  {
   "cell_type": "markdown",
   "metadata": {},
   "source": [
    "Si un asteroide entra en la atmósfera de la Tierra a una velocidad mayor o igual a 20 km/s, a veces produce un rayo de luz que se puede ver desde la Tierra. Escribe la lógica condicional que usa declaraciones if, else, y elif para alertar a las personas de todo el mundo que deben buscar un asteroide en el cielo. ¡Hay uno que se dirige a la tierra ahora a una velocidad de 19 km/s!"
   ]
  },
  {
   "cell_type": "markdown",
   "metadata": {},
   "source": [
    "* Agrega el código para crear una variable para un asteroide que viaja a 19 km/s\n",
    "* Escribe varias expresiones de prueba para determinar si puedes ver el rayo de luz desde la tierra\n",
    "* Agrega las instrucciones que se ejecutarán si las expresiones de prueba son True o False\n",
    "\n",
    "\n"
   ]
  },
  {
   "cell_type": "code",
   "execution_count": 4,
   "metadata": {},
   "outputs": [
    {
     "name": "stdout",
     "output_type": "stream",
     "text": [
      "Todo bien\n"
     ]
    }
   ],
   "source": [
    "velRayo = 20 # Kilometros por segundo (km/s)\n",
    "velAsteroide2 = 19 # km/s\n",
    "\n",
    "if velAsteroide2 == velRayo:\n",
    "    print(\"ATENCION A TODO EL MUNDO! revisar el cielo en busca de asteroide\")\n",
    "elif velAsteroide2 > velRayo:\n",
    "    print(\"ATENCION A TODO EL MUNDO! revisar el cielo en busca de asteroide\")\n",
    "else:\n",
    "    print(\"Todo bien\")"
   ]
  },
  {
   "cell_type": "markdown",
   "metadata": {},
   "source": [
    "## Ejercicio 2 - Uso de operadores and y or"
   ]
  },
  {
   "cell_type": "markdown",
   "metadata": {},
   "source": [
    "En este ejercicio, aprenderás información más matizada sobre cuándo los asteroides representan un peligro para la Tierra, y utilizarás esa información para mejorar nuestro sistema de advertencia. Aquí está la nueva información que necesitas saber:\n",
    "\n",
    "* Los asteroides de menos de 25 metros en su dimensión más grande probablemente se quemarán a medida que entren en la atmósfera de la Tierra.\n",
    "\n",
    "Si una pieza de un asteroide que es más grande que 25 metros pero más pequeña que 1000 metros golpeara la Tierra, causaría mucho daño.\n",
    "También discutimos en el ejercicio anterior que:\n",
    "\n",
    "* La velocidad del asteroide varía en función de lo cerca que esté del sol, y cualquier velocidad superior a 25 kilómetros por segundo (km/s) merece una advertencia.\n",
    "* Si un asteroide entra en la atmósfera de la Tierra a una velocidad mayor o igual a 20 km/s, a veces produce un rayo de luz que se puede ver desde la Tierra.\n",
    "\n",
    "Usando toda esta información, escribe un programa que emita la advertencia o información correcta a la gente de la Tierra, según la velocidad y el tamaño de un asteroide. Utiliza instrucciones if, else, y elif, así como los operadores and y or."
   ]
  },
  {
   "cell_type": "markdown",
   "metadata": {},
   "source": [
    "* Agrega el código para crear nuevas variables para la velocidad y el tamaño del asteroide\n",
    "* Para probar el código, prueba con varias velocidades y tamaños\n",
    "* Escribe varias expresiones de prueba o combinaciones de expresiones de prueba para determinar qué mensaje se debe enviar a Tierra.\n",
    "\n"
   ]
  },
  {
   "cell_type": "code",
   "execution_count": 14,
   "metadata": {},
   "outputs": [
    {
     "name": "stdout",
     "output_type": "stream",
     "text": [
      "Todo bien\n"
     ]
    }
   ],
   "source": [
    "dimMinAsteroide = 25    # Dimension minima para causar daño a la Tierra\n",
    "dimMaxAsteroide = 1000  # Dimension maxima para causar daño a la Tierra\n",
    "velAsteroideAdv = 25    # Velocidad del asteroide peligrosa\n",
    "velAsteroideRay = 20    # Velocidad del asteroide que causa un rayo\n",
    "\n",
    "dimAsteroideAct = 21    # Dimension Actual\n",
    "velAsteroideAct = 18    # Velocidad Actual\n",
    "\n",
    "if dimAsteroideAct >= dimMinAsteroide or velAsteroideAct > velAsteroideAdv:\n",
    "    print(\"¡ALERTA! Un peligroso asteroide se acerca a la Tierra\")\n",
    "    print(\"Dimensiones del Asteroide: \"+ str(dimAsteroideAct) + \" metros\")\n",
    "    print(\"Velocidad del asteroide: \" + str(velAsteroideAct) + \" km/s\")\n",
    "elif velAsteroideAct > velAsteroideRay:\n",
    "    print(\"¡ATENCION! Observe el cielo en busca de luz por asteroide\")\n",
    "else:\n",
    "    print(\"Todo bien\")"
   ]
  }
 ],
 "metadata": {
  "interpreter": {
   "hash": "aef895e84ff5381f81c866cd8e336f491d3c89d0d71742ffb6d5512c2ea6ce9e"
  },
  "kernelspec": {
   "display_name": "Python 3.10.2 64-bit",
   "language": "python",
   "name": "python3"
  },
  "language_info": {
   "codemirror_mode": {
    "name": "ipython",
    "version": 3
   },
   "file_extension": ".py",
   "mimetype": "text/x-python",
   "name": "python",
   "nbconvert_exporter": "python",
   "pygments_lexer": "ipython3",
   "version": "3.10.2"
  },
  "orig_nbformat": 4
 },
 "nbformat": 4,
 "nbformat_minor": 2
}
