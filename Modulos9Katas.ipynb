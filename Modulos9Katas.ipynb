{
 "cells": [
  {
   "cell_type": "markdown",
   "metadata": {},
   "source": [
    "## Ejercicio 1 - Uso de funciones en Python"
   ]
  },
  {
   "cell_type": "markdown",
   "metadata": {},
   "source": [
    "Los argumentos requeridos en las funciones se utilizan cuando las funciones necesitan que esos argumentos funcionen correctamente. En este ejercicio, construirás un informe de combustible que requiere información de varias ubicaciones de combustible en todo el cohete."
   ]
  },
  {
   "cell_type": "code",
   "execution_count": 16,
   "metadata": {},
   "outputs": [],
   "source": [
    "# Función para leer 3 tanques de combustible y muestre el promedio\n",
    "def NivelCombustible(tanque1,tanque2,tanque3):\n",
    "    promedioCombustible = (tanque1 + tanque2 + tanque3) / 3\n",
    "    return f'''El promedio por tanque de combustible es: {promedioCombustible}\n",
    "    Tanque 1 = {tanque1}\n",
    "    Tanque 2 = {tanque2}\n",
    "    Tanque 3 = {tanque3}\n",
    "    '''"
   ]
  },
  {
   "cell_type": "code",
   "execution_count": 17,
   "metadata": {},
   "outputs": [
    {
     "name": "stdout",
     "output_type": "stream",
     "text": [
      "El promedio por tanque de combustible es: 52.333333333333336\n",
      "    Tanque 1 = 30\n",
      "    Tanque 2 = 50\n",
      "    Tanque 3 = 77\n",
      "    \n"
     ]
    }
   ],
   "source": [
    "# Llamamos a la función que genera el reporte print(funcion(tanque1, tanque2, tanque3))\n",
    "print(NivelCombustible(30,50,77))"
   ]
  },
  {
   "cell_type": "code",
   "execution_count": 24,
   "metadata": {},
   "outputs": [],
   "source": [
    "# Función promedio \n",
    "def promCombustible(*args):\n",
    "    sumCombustible = sum(args)\n",
    "    totTanques = len(args)\n",
    "    return sumCombustible / totTanques"
   ]
  },
  {
   "cell_type": "code",
   "execution_count": 26,
   "metadata": {},
   "outputs": [],
   "source": [
    "# Actualiza la función\n",
    "def NivelCombustible(tanque1,tanque2,tanque3):\n",
    "    return f'''El promedio por tanque de combustible es: {promCombustible(tanque1,tanque2,tanque3)}\n",
    "    Tanque 1 = {tanque1}\n",
    "    Tanque 2 = {tanque2}\n",
    "    Tanque 3 = {tanque3}\n",
    "    '''"
   ]
  },
  {
   "cell_type": "code",
   "execution_count": 28,
   "metadata": {},
   "outputs": [
    {
     "name": "stdout",
     "output_type": "stream",
     "text": [
      "El promedio por tanque de combustible es: 70.66666666666667\n",
      "    Tanque 1 = 85\n",
      "    Tanque 2 = 50\n",
      "    Tanque 3 = 77\n",
      "    \n"
     ]
    }
   ],
   "source": [
    "print(NivelCombustible(85,50,77))"
   ]
  },
  {
   "cell_type": "markdown",
   "metadata": {},
   "source": [
    "## Ejercicio 2: Trabajo con argumentos de palabra clave"
   ]
  },
  {
   "cell_type": "markdown",
   "metadata": {},
   "source": [
    "En este ejercicio, construirás un informe de cohete que requiere varias piezas de información, como el tiempo hasta el destino, el combustible a la izquierda y el nombre del destino. Comienza por crear una función que creará un informe preciso de la misión:"
   ]
  },
  {
   "cell_type": "code",
   "execution_count": 31,
   "metadata": {},
   "outputs": [
    {
     "name": "stdout",
     "output_type": "stream",
     "text": [
      "Lanzamiento a Luna\n",
      "    Duracion estimada: 18000\n",
      "    Cantidad de Combustible: 180\n",
      "    \n"
     ]
    }
   ],
   "source": [
    "# Función con un informe preciso de la misión. Considera hora de prelanzamiento, tiempo de vuelo, destino, tanque externo y tanque interno\n",
    "def reporteMision (horaLanzamiento,tiempoVuelo,destino,tanqueExterno=100,tanqueInterno=100):\n",
    "    return f'''Lanzamiento a {destino}\n",
    "    Duracion estimada: {horaLanzamiento + tiempoVuelo}\n",
    "    Cantidad de Combustible: {tanqueInterno + tanqueExterno}\n",
    "    '''\n",
    "print(reporteMision(3600,14400,'Luna',80))"
   ]
  },
  {
   "cell_type": "code",
   "execution_count": 34,
   "metadata": {},
   "outputs": [
    {
     "name": "stdout",
     "output_type": "stream",
     "text": [
      "Lanzamiento a Marte\n",
      "    Duracion estimada: 104480\n",
      "    Cantidad de Combustible: 270\n",
      "    \n"
     ]
    }
   ],
   "source": [
    "# Escribe tu nueva función de reporte considerando lo anterior\n",
    "def reporteMision (destino,*minutes,**fuel_reservoirs):\n",
    "    return f'''Lanzamiento a {destino}\n",
    "    Duracion estimada: {sum(minutes)}\n",
    "    Cantidad de Combustible: {sum(fuel_reservoirs.values())}\n",
    "    '''\n",
    "print(reporteMision('Marte',14400,80,3600,86400,tanque1=80,tanque2=90,tanque3=100))"
   ]
  },
  {
   "cell_type": "code",
   "execution_count": 40,
   "metadata": {},
   "outputs": [
    {
     "name": "stdout",
     "output_type": "stream",
     "text": [
      "tanque1 con nivel de combustible: 80\n",
      "tanque2 con nivel de combustible: 90\n",
      "tanque3 con nivel de combustible: 100\n",
      "Lanzamiento a Marte\n",
      "    Duracion estimada: 104480\n",
      "    Cantidad de Combustible: 270\n",
      "    \n"
     ]
    }
   ],
   "source": [
    "# Escribe tu nueva función\n",
    "def reporteMision (destino,*minutes,**fuel_reservoirs):\n",
    "    detalleMision = f'''Lanzamiento a {destino}\n",
    "    Duracion estimada: {sum(minutes)}\n",
    "    Cantidad de Combustible: {sum(fuel_reservoirs.values())}\n",
    "    '''\n",
    "    for tanque,combustible in fuel_reservoirs.items():\n",
    "        print(f\"{tanque} con nivel de combustible: {combustible}\")\n",
    "    return detalleMision\n",
    "\n",
    "print(reporteMision('Marte',14400,80,3600,86400,tanque1=80,tanque2=90,tanque3=100))\n",
    "\n"
   ]
  }
 ],
 "metadata": {
  "interpreter": {
   "hash": "aef895e84ff5381f81c866cd8e336f491d3c89d0d71742ffb6d5512c2ea6ce9e"
  },
  "kernelspec": {
   "display_name": "Python 3.10.2 64-bit",
   "language": "python",
   "name": "python3"
  },
  "language_info": {
   "codemirror_mode": {
    "name": "ipython",
    "version": 3
   },
   "file_extension": ".py",
   "mimetype": "text/x-python",
   "name": "python",
   "nbconvert_exporter": "python",
   "pygments_lexer": "ipython3",
   "version": "3.10.2"
  },
  "orig_nbformat": 4
 },
 "nbformat": 4,
 "nbformat_minor": 2
}
